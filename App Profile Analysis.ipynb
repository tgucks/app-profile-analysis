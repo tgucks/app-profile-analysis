{
 "cells": [
  {
   "cell_type": "markdown",
   "metadata": {},
   "source": [
    "# App Store and Google Play Market Analysis\n",
    "\n",
    "- This project is aimed at analyzing the profiles of applications available on the Apple iOS App Store and Google Play markets\n",
    "- For fun, I am assuming I work for a company that builds free apps directed towards an English-speaking audience \n",
    "- As this company's data analyst, I am tasked with determining which application profiles will likely attract the most users\n",
    "\n",
    "\n",
    "# Table of Contents\n",
    "\n",
    "(Links not supported in Github)\n",
    "\n",
    "1. [Dataset Introduction](#introduction)\n",
    "2. [Dataset Exploration](#paragraph1)\n",
    "3. [Data Cleaning](#paragraph2)\n",
    "    1. [Missing Data Points](#subparagraph1)\n",
    "    2. [Removing Duplicates](#subparagraph2)\n",
    "    3. [Removing Non-English Apps](#subparagraph3)\n",
    "    4. [Removing Paid Apps](#subparagraph4)\n",
    "3. [Most Common Apps by Genre](#paragraph3)\n",
    "4. [Most Popular Apps by Genre](#paragraph4)\n",
    "5. [Findings and Recommendations](#paragraph5)\n",
    "\n",
    "---"
   ]
  },
  {
   "cell_type": "markdown",
   "metadata": {},
   "source": [
    "<a name=\"introduction\"></a>\n",
    "\n",
    "## 1. Dataset Introduction\n",
    "The datasets used for this analysis are as follows:\n",
    "\n",
    "---\n",
    "\n",
    "**[Mobile App Statistics (Apple iOS app store)](https://www.kaggle.com/ramamet4/app-store-apple-data-set-10k-apps)**\n",
    "- This data set contains more than 7000 Apple iOS mobile application details. \n",
    "- \"Apple\" data set\n",
    "\n",
    "**Columns are as follows:**"
   ]
  },
  {
   "cell_type": "code",
   "execution_count": 1,
   "metadata": {},
   "outputs": [
    {
     "name": "stdout",
     "output_type": "stream",
     "text": [
      "id, track_name, size_bytes, currency, price, rating_count_tot, rating_count_ver, user_rating, user_rating_ver, ver, cont_rating, prime_genre, sup_devices.num, ipadSc_urls.num, lang.num, vpp_lic\n"
     ]
    }
   ],
   "source": [
    "from csv import reader\n",
    "\n",
    "file1 = open('AppleStore.csv', encoding='utf8')\n",
    "reader1 = reader(file1)\n",
    "apple = list(reader1)\n",
    "\n",
    "for item in apple[0][:-1]:\n",
    "    print(item + \", \", end=\"\")\n",
    "print(apple[0][-1])"
   ]
  },
  {
   "cell_type": "markdown",
   "metadata": {},
   "source": [
    "--- \n",
    "\n",
    "**[Google Play Store Apps](https://www.kaggle.com/ramamet4/app-store-apple-data-set-10k-apps)**\n",
    "- Details on some  applications available on the Google Play store.\n",
    "- Each app (row) has values for category, rating, size, and more.\n",
    "- \"Google\" data set\n",
    "\n",
    "**Columns are as follows:**"
   ]
  },
  {
   "cell_type": "code",
   "execution_count": 2,
   "metadata": {},
   "outputs": [
    {
     "name": "stdout",
     "output_type": "stream",
     "text": [
      "App, Category, Rating, Reviews, Size, Installs, Type, Price, Content Rating, Genres, Last Updated, Current Ver, Android Ver\n"
     ]
    }
   ],
   "source": [
    "file2 = open('googleplaystore.csv', encoding='utf8')\n",
    "reader2 = reader(file2)\n",
    "google = list(reader2)\n",
    "\n",
    "for item in google[0][:-1]:\n",
    "    print(item + \", \", end=\"\")\n",
    "print(google[0][-1])"
   ]
  },
  {
   "cell_type": "markdown",
   "metadata": {},
   "source": [
    "---\n",
    "<a name=\"paragraph1\"></a>\n",
    "\n",
    "## 2. Dataset Exploration"
   ]
  },
  {
   "cell_type": "code",
   "execution_count": 3,
   "metadata": {},
   "outputs": [
    {
     "name": "stdout",
     "output_type": "stream",
     "text": [
      "Apple Dataset:\n",
      "\n",
      "['284882215', 'Facebook', '389879808', 'USD', '0.0', '2974676', '212', '3.5', '3.5', '95.0', '4+', 'Social Networking', '37', '1', '29', '1']\n",
      "['389801252', 'Instagram', '113954816', 'USD', '0.0', '2161558', '1289', '4.5', '4.0', '10.23', '12+', 'Photo & Video', '37', '0', '29', '1']\n",
      "['529479190', 'Clash of Clans', '116476928', 'USD', '0.0', '2130805', '579', '4.5', '4.5', '9.24.12', '9+', 'Games', '38', '5', '18', '1']\n",
      "['420009108', 'Temple Run', '65921024', 'USD', '0.0', '1724546', '3842', '4.5', '4.0', '1.6.2', '9+', 'Games', '40', '5', '1', '1']\n",
      "\n",
      "Number of rows: 7197\n",
      "Number of columns: 16\n",
      "\n",
      "Google Dataset:\n",
      "\n",
      "['Photo Editor & Candy Camera & Grid & ScrapBook', 'ART_AND_DESIGN', '4.1', '159', '19M', '10,000+', 'Free', '0', 'Everyone', 'Art & Design', 'January 7, 2018', '1.0.0', '4.0.3 and up']\n",
      "['Coloring book moana', 'ART_AND_DESIGN', '3.9', '967', '14M', '500,000+', 'Free', '0', 'Everyone', 'Art & Design;Pretend Play', 'January 15, 2018', '2.0.0', '4.0.3 and up']\n",
      "['U Launcher Lite – FREE Live Cool Themes, Hide Apps', 'ART_AND_DESIGN', '4.7', '87510', '8.7M', '5,000,000+', 'Free', '0', 'Everyone', 'Art & Design', 'August 1, 2018', '1.2.4', '4.0.3 and up']\n",
      "['Sketch - Draw & Paint', 'ART_AND_DESIGN', '4.5', '215644', '25M', '50,000,000+', 'Free', '0', 'Teen', 'Art & Design', 'June 8, 2018', 'Varies with device', '4.2 and up']\n",
      "\n",
      "Number of rows: 10841\n",
      "Number of columns: 13\n",
      "\n"
     ]
    }
   ],
   "source": [
    "def print_data(dataset, start, end, rows_and_columns=True, header=True):        \n",
    "    \n",
    "    #Takes chunk of data to display\n",
    "    ds_slice= dataset[start:end]\n",
    "    for row in ds_slice:\n",
    "        print(row)\n",
    "    \n",
    "    print()\n",
    "    \n",
    "    #Prints number of rows and columns in dataset by default, excluding the header row\n",
    "    if rows_and_columns:\n",
    "        if header:\n",
    "            print('Number of rows:', len(dataset[1:]))\n",
    "        else:\n",
    "            print('Number of rows:', len(dataset))\n",
    "        print('Number of columns:', len(dataset[0]))\n",
    "        \n",
    "    print()\n",
    "\n",
    "#Calls function using datasets defined earlier\n",
    "print(\"Apple Dataset:\\n\")\n",
    "print_data(apple, 1, 5)\n",
    "\n",
    "print(\"Google Dataset:\\n\")\n",
    "print_data(google, 1, 5)\n"
   ]
  },
  {
   "cell_type": "markdown",
   "metadata": {},
   "source": [
    "---\n",
    "<a name=\"paragraph2\"></a>\n",
    "\n",
    "## 3. Initial Data Cleaning\n",
    "\n",
    "<a name=\"subparagraph1\"></a>\n",
    "\n",
    "### 3.1) Checking for and fixing any rows in either dataset with missing data points"
   ]
  },
  {
   "cell_type": "code",
   "execution_count": 4,
   "metadata": {},
   "outputs": [
    {
     "name": "stdout",
     "output_type": "stream",
     "text": [
      "Rows with incomplete data in Apple dataset: \n",
      "[] \n",
      "\n",
      "Rows with incomplete data in Google dataset: \n",
      "[['Life Made WI-Fi Touchscreen Photo Frame', '1.9', '19', '3.0M', '1,000+', 'Free', '0', 'Everyone', '', 'February 11, 2018', '1.0.19', '4.0 and up']] \n",
      "\n"
     ]
    }
   ],
   "source": [
    "#Detect if any rows are missing data points\n",
    "def detect_invalid_rows(dataset):\n",
    "    invalid_rows = []\n",
    "    num_cols = len(dataset[0])\n",
    "    for row in dataset:\n",
    "        if len(row) != num_cols:\n",
    "            invalid_rows.append(row)\n",
    "    return invalid_rows\n",
    "\n",
    "print(\"Rows with incomplete data in Apple dataset: \")\n",
    "bad_apple_rows = detect_invalid_rows(apple)\n",
    "print(bad_apple_rows, \"\\n\")\n",
    "print(\"Rows with incomplete data in Google dataset: \")\n",
    "bad_google_rows = detect_invalid_rows(google)\n",
    "print(bad_google_rows, \"\\n\")"
   ]
  },
  {
   "cell_type": "markdown",
   "metadata": {},
   "source": [
    "---\n",
    "- No rows in the Apple dataset with incomplete data\n",
    "- 1 row in the Google dataset with incomplete data, let's take a closer look at this one\n",
    "---"
   ]
  },
  {
   "cell_type": "code",
   "execution_count": 5,
   "metadata": {},
   "outputs": [
    {
     "name": "stdout",
     "output_type": "stream",
     "text": [
      "['App', 'Category', 'Rating', 'Reviews', 'Size', 'Installs', 'Type', 'Price', 'Content Rating', 'Genres', 'Last Updated', 'Current Ver', 'Android Ver']\n",
      "['Life Made WI-Fi Touchscreen Photo Frame', '1.9', '19', '3.0M', '1,000+', 'Free', '0', 'Everyone', '', 'February 11, 2018', '1.0.19', '4.0 and up']\n"
     ]
    }
   ],
   "source": [
    "#Checking the 'google' dataset header to determine which data point is missing\n",
    "print(google[0])\n",
    "print(bad_google_rows[0])"
   ]
  },
  {
   "cell_type": "markdown",
   "metadata": {},
   "source": [
    "---\n",
    "- Missing data point appears to be the \"Category\". Checking the available categories:\n",
    "---"
   ]
  },
  {
   "cell_type": "code",
   "execution_count": 6,
   "metadata": {},
   "outputs": [
    {
     "name": "stdout",
     "output_type": "stream",
     "text": [
      "['Category', 'ART_AND_DESIGN', 'AUTO_AND_VEHICLES', 'BEAUTY', 'BOOKS_AND_REFERENCE', 'BUSINESS', 'COMICS', 'COMMUNICATION', 'DATING', 'EDUCATION', 'ENTERTAINMENT', 'EVENTS', 'FINANCE', 'FOOD_AND_DRINK', 'HEALTH_AND_FITNESS', 'HOUSE_AND_HOME', 'LIBRARIES_AND_DEMO', 'LIFESTYLE', 'GAME', 'FAMILY', 'MEDICAL', 'SOCIAL', 'SHOPPING', 'PHOTOGRAPHY', 'SPORTS', 'TRAVEL_AND_LOCAL', 'TOOLS', 'PERSONALIZATION', 'PRODUCTIVITY', 'PARENTING', 'WEATHER', 'VIDEO_PLAYERS', 'NEWS_AND_MAGAZINES', 'MAPS_AND_NAVIGATION', '1.9']\n"
     ]
    }
   ],
   "source": [
    "def get_header_col_values(dataset, column):\n",
    "    all_cols = []\n",
    "    \n",
    "    #searches through the value present at the [column] index in each row and adds unique values to a list \n",
    "    for row in dataset:\n",
    "        if row[column] not in all_cols:\n",
    "            all_cols.append(row[column])\n",
    "    return all_cols\n",
    "\n",
    "print(get_header_col_values(google, 1))"
   ]
  },
  {
   "cell_type": "markdown",
   "metadata": {},
   "source": [
    "---\n",
    "- App name is \"Life Made WI-Fi Touchscreen Photo Frame\"\n",
    "- Likely can be categorized under \"Lifestyle\"\n",
    "---"
   ]
  },
  {
   "cell_type": "code",
   "execution_count": 7,
   "metadata": {},
   "outputs": [
    {
     "name": "stdout",
     "output_type": "stream",
     "text": [
      "['Life Made WI-Fi Touchscreen Photo Frame', 'LIFESTYLE', '1.9', '19', '3.0M', '1,000+', 'Free', '0', 'Everyone', '', 'February 11, 2018', '1.0.19', '4.0 and up']\n"
     ]
    }
   ],
   "source": [
    "#Find the index of the row missing data in Google's dataset \n",
    "idx = google.index(bad_google_rows[0])\n",
    "\n",
    "#Insert new category to this row, shifting all other elements to the right by 1\n",
    "google[idx].insert(1, \"LIFESTYLE\")\n",
    "\n",
    "print(google[idx])"
   ]
  },
  {
   "cell_type": "markdown",
   "metadata": {},
   "source": [
    "---\n",
    "- Row now has a category and will not prevent accurate analysis\n",
    "---"
   ]
  },
  {
   "cell_type": "markdown",
   "metadata": {},
   "source": [
    "<a name=\"subparagraph2\"></a>\n",
    "\n",
    "### 3.2) Checking for and removing duplicate entries from each dataset"
   ]
  },
  {
   "cell_type": "code",
   "execution_count": 8,
   "metadata": {},
   "outputs": [
    {
     "name": "stdout",
     "output_type": "stream",
     "text": [
      "Number of unique entries:\n",
      "Apple dataset: 7195 out of 7197 total rows\n",
      "Google dataset: 9660 out of 10841 total rows\n",
      "\n",
      "Number of duplicate entries:\n",
      "Apple dataset: 2\n",
      "Google dataset: 1181\n"
     ]
    }
   ],
   "source": [
    "#Function will take in a dataset and the column which corresponds to the \"app name\"\n",
    "#Will iterate through dataset and determine if the same app name appears more than once\n",
    "#If so, it'll add it to its own dictionary\n",
    "def detect_duplicates(dataset, app_name_col):\n",
    "    \n",
    "    #Create 2 dictionaries to store unique and duplicate values\n",
    "    unique = []\n",
    "    duplicates = []\n",
    "    \n",
    "    #exclude the hedaer row in datasets\n",
    "    for row in dataset[1:]:\n",
    "        #Grab the app name\n",
    "        app = row[app_name_col]\n",
    "\n",
    "        #if the app name is not in the unique list, then it is unique. Add it.\n",
    "        if app in unique:\n",
    "            duplicates.append(app)\n",
    "\n",
    "        #if the app name is not unique, then it's a duplicate \n",
    "        else:\n",
    "            unique.append(app)\n",
    "            \n",
    "    return (unique, duplicates)\n",
    "\n",
    "#Run the function on both Apple and Google datasets\n",
    "#These variables will have a tuple of lists with [0] being the list of unique apps and [1] the list of duplicate apps\n",
    "apple_duplicates = detect_duplicates(apple, 1)\n",
    "google_duplicates = detect_duplicates(google, 0)\n",
    "\n",
    "print(\"Number of unique entries:\")\n",
    "print(\"Apple dataset:\", len(apple_duplicates[0]), \"out of\", len(apple[1:]), \"total rows\")\n",
    "print(\"Google dataset:\", len(google_duplicates[0]), \"out of\", len(google[1:]), \"total rows\")\n",
    "\n",
    "print()\n",
    "\n",
    "print(\"Number of duplicate entries:\")\n",
    "print(\"Apple dataset:\", len(apple_duplicates[1]))\n",
    "print(\"Google dataset:\", len(google_duplicates[1]))"
   ]
  },
  {
   "cell_type": "markdown",
   "metadata": {},
   "source": [
    "---\n",
    "- There are some apps which appear more than once in each dataset. Let's check them out.\n",
    "---"
   ]
  },
  {
   "cell_type": "code",
   "execution_count": 9,
   "metadata": {},
   "outputs": [
    {
     "name": "stdout",
     "output_type": "stream",
     "text": [
      "['Mannequin Challenge', 'VR Roller Coaster']\n"
     ]
    }
   ],
   "source": [
    "print(apple_duplicates[1])"
   ]
  },
  {
   "cell_type": "markdown",
   "metadata": {},
   "source": [
    "\n",
    "- Two apps had multiple entries in the Apple Store data set. Let's see how (or if) those entries differ:\n"
   ]
  },
  {
   "cell_type": "code",
   "execution_count": 10,
   "metadata": {},
   "outputs": [
    {
     "name": "stdout",
     "output_type": "stream",
     "text": [
      "['id', 'track_name', 'size_bytes', 'currency', 'price', 'rating_count_tot', 'rating_count_ver', 'user_rating', 'user_rating_ver', 'ver', 'cont_rating', 'prime_genre', 'sup_devices.num', 'ipadSc_urls.num', 'lang.num', 'vpp_lic'] \n",
      "\n",
      "['1173990889', 'Mannequin Challenge', '109705216', 'USD', '0.0', '668', '87', '3.0', '3.0', '1.4', '9+', 'Games', '37', '4', '1', '1']\n",
      "['952877179', 'VR Roller Coaster', '169523200', 'USD', '0.0', '107', '102', '3.5', '3.5', '2.0.0', '4+', 'Games', '37', '5', '1', '1']\n",
      "['1178454060', 'Mannequin Challenge', '59572224', 'USD', '0.0', '105', '58', '4.0', '4.5', '1.0.1', '4+', 'Games', '38', '5', '1', '1']\n",
      "['1089824278', 'VR Roller Coaster', '240964608', 'USD', '0.0', '67', '44', '3.5', '4.0', '0.81', '4+', 'Games', '38', '0', '1', '1']\n"
     ]
    }
   ],
   "source": [
    "#Grab the dataset header\n",
    "print(apple[0], \"\\n\")\n",
    "\n",
    "#Print all rows which contain app names with duplicate entries\n",
    "for row in apple:\n",
    "    if row[1] in apple_duplicates[1]:\n",
    "        print(row)"
   ]
  },
  {
   "cell_type": "markdown",
   "metadata": {},
   "source": [
    "---\n",
    "- In order to clean up these duplicates, we'll want a data point that is common to both datasets and easy to parse. We'll use total rating count in this case. The app with the most total ratings should be the latest version.\n",
    "\n",
    "- We will keep the version of each app with the most reviews (index of 5 in \"Apple\" dataset, index of 3 in \"Google\" dataset)\n",
    "---"
   ]
  },
  {
   "cell_type": "code",
   "execution_count": 11,
   "metadata": {},
   "outputs": [
    {
     "name": "stdout",
     "output_type": "stream",
     "text": [
      "['id', 'track_name', 'size_bytes', 'currency', 'price', 'rating_count_tot', 'rating_count_ver', 'user_rating', 'user_rating_ver', 'ver', 'cont_rating', 'prime_genre', 'sup_devices.num', 'ipadSc_urls.num', 'lang.num', 'vpp_lic']\n",
      "['284882215', 'Facebook', '389879808', 'USD', '0.0', '2974676', '212', '3.5', '3.5', '95.0', '4+', 'Social Networking', '37', '1', '29', '1']\n",
      "['389801252', 'Instagram', '113954816', 'USD', '0.0', '2161558', '1289', '4.5', '4.0', '10.23', '12+', 'Photo & Video', '37', '0', '29', '1']\n",
      "['529479190', 'Clash of Clans', '116476928', 'USD', '0.0', '2130805', '579', '4.5', '4.5', '9.24.12', '9+', 'Games', '38', '5', '18', '1']\n",
      "['420009108', 'Temple Run', '65921024', 'USD', '0.0', '1724546', '3842', '4.5', '4.0', '1.6.2', '9+', 'Games', '40', '5', '1', '1']\n",
      "\n",
      "Number of rows: 7195\n",
      "Number of columns: 16\n",
      "\n",
      "\n",
      "['App', 'Category', 'Rating', 'Reviews', 'Size', 'Installs', 'Type', 'Price', 'Content Rating', 'Genres', 'Last Updated', 'Current Ver', 'Android Ver']\n",
      "['Photo Editor & Candy Camera & Grid & ScrapBook', 'ART_AND_DESIGN', '4.1', '159', '19M', '10,000+', 'Free', '0', 'Everyone', 'Art & Design', 'January 7, 2018', '1.0.0', '4.0.3 and up']\n",
      "['U Launcher Lite – FREE Live Cool Themes, Hide Apps', 'ART_AND_DESIGN', '4.7', '87510', '8.7M', '5,000,000+', 'Free', '0', 'Everyone', 'Art & Design', 'August 1, 2018', '1.2.4', '4.0.3 and up']\n",
      "['Sketch - Draw & Paint', 'ART_AND_DESIGN', '4.5', '215644', '25M', '50,000,000+', 'Free', '0', 'Teen', 'Art & Design', 'June 8, 2018', 'Varies with device', '4.2 and up']\n",
      "['Pixel Draw - Number Art Coloring Book', 'ART_AND_DESIGN', '4.3', '967', '2.8M', '100,000+', 'Free', '0', 'Everyone', 'Art & Design;Creativity', 'June 20, 2018', '1.1', '4.4 and up']\n",
      "\n",
      "Number of rows: 9660\n",
      "Number of columns: 13\n",
      "\n"
     ]
    }
   ],
   "source": [
    "#Function to take in a dataset and columns for \"app name\" and \"total rating count\"\n",
    "#Function will return a list of apps which have the highest total rating count, removing the duplicate entries with lower rating counts\n",
    "\n",
    "def remove_duplicates(dataset, app_name_col, total_rating_col):\n",
    "\n",
    "    #Dictionary with format {App Name: total_rating_count} to find the apps with highest rating totals\n",
    "    keepers = {}\n",
    "\n",
    "    #Iterate through dataset, excluding header row\n",
    "    for app in dataset[1:]:\n",
    "\n",
    "        #grab the 2 data points: app name and total ratings count\n",
    "        app_name = app[app_name_col]\n",
    "        rating_ct = float(app[total_rating_col])\n",
    "\n",
    "        #if we detect a duplicate app name\n",
    "        #and if the rating count of this app is greater than the app in 'keepers' dictionary\n",
    "        if app_name in keepers and keepers[app_name] < rating_ct:\n",
    "\n",
    "            #then replace the entry in keepers dictionary\n",
    "            keepers[app_name] = rating_ct\n",
    "\n",
    "        #if app has not been detected yet, add it to the keepers dictionary\n",
    "        elif app_name not in keepers:\n",
    "            keepers[app_name] = rating_ct\n",
    "            \n",
    "    #We now have a dictionary with {App Name: Total rating count} which has only 'kept' the app with the highest total rating count\n",
    "    #Let's use this dictionary to reconstruct the initial datast, excluding the duplicate entries\n",
    "    dedup = []\n",
    "    reviewed = []\n",
    "    \n",
    "    #Grab the header from dataset\n",
    "    dedup.append(dataset[0])\n",
    "\n",
    "    #Loop through dataset excluding header\n",
    "    for app in dataset[1:]:\n",
    "        \n",
    "        #Reinitiate app name and ratings count variables\n",
    "        app_name = app[app_name_col]\n",
    "        ratings_ct = float(app[total_rating_col])\n",
    "\n",
    "        #If the app is a 'keeper' and it has not already been reviewed during this for loop\n",
    "        if (keepers[app_name] == ratings_ct) and (app_name not in reviewed):\n",
    "            \n",
    "            #then add this app to our new dataset (dedup) and to the 'reviewed' list so we remember which apps we've seen already\n",
    "            dedup.append(app)\n",
    "            reviewed.append(app_name)\n",
    "\n",
    "    #return the new dataset with duplicates removed\n",
    "    return dedup\n",
    "    \n",
    "apple_dedup = remove_duplicates(apple, 1, 5)\n",
    "print_data(apple_dedup, 0 , 5)\n",
    "print()\n",
    "google_dedup = remove_duplicates(google, 0, 3)\n",
    "print_data(google_dedup, 0 , 5)"
   ]
  },
  {
   "cell_type": "markdown",
   "metadata": {},
   "source": [
    "---\n",
    "<a name=\"subparagraph3\"></a>\n",
    "\n",
    "### 3.3) Detecting and removing non-English apps"
   ]
  },
  {
   "cell_type": "code",
   "execution_count": 12,
   "metadata": {},
   "outputs": [
    {
     "name": "stdout",
     "output_type": "stream",
     "text": [
      "True\n",
      "False\n",
      "True\n",
      "True\n"
     ]
    }
   ],
   "source": [
    "#If there are 3 or more characters in the app name which fall outside of standard english ASCII values, then the app is likely not meant for english audience\n",
    "#The algorithm is not perfect, choosing '3' characters arbitrarily as some legitimate english apps will have emojis and \"TM\" characters which we would want to include\n",
    "def is_eng_app(name):\n",
    "    \n",
    "    #Counter to detect if the app has more than (3) non-english characters \n",
    "    num_non_eng_chars = 0\n",
    "    \n",
    "    #iterate through each character in the app name string\n",
    "    for letter in name:\n",
    "        \n",
    "        #if the ASCII value is greater than 127, it is not a commonly used english character\n",
    "        #then add 1 to the counter\n",
    "        if ord(letter) > 127:\n",
    "            num_non_eng_chars += 1\n",
    "    \n",
    "    #if more than 3 non-english characters found, return false, app is likely not meant for english audiences\n",
    "    if num_non_eng_chars > 3:\n",
    "        return False\n",
    "    else:\n",
    "        return True\n",
    "\n",
    "#Tests to show output\n",
    "print(is_eng_app('instagram'))\n",
    "print(is_eng_app('爱奇艺PPS -《欢乐颂2》电视剧热播'))\n",
    "print(is_eng_app('Instachat 😜'))\n",
    "print(is_eng_app('Docs To Go™ Free Office Suite'))"
   ]
  },
  {
   "cell_type": "markdown",
   "metadata": {},
   "source": [
    "---\n",
    "- Now that we have the algorithm, we'll create new datasets with non-english apps removed\n",
    "---"
   ]
  },
  {
   "cell_type": "code",
   "execution_count": 13,
   "metadata": {},
   "outputs": [
    {
     "name": "stdout",
     "output_type": "stream",
     "text": [
      "['id', 'track_name', 'size_bytes', 'currency', 'price', 'rating_count_tot', 'rating_count_ver', 'user_rating', 'user_rating_ver', 'ver', 'cont_rating', 'prime_genre', 'sup_devices.num', 'ipadSc_urls.num', 'lang.num', 'vpp_lic']\n",
      "['284882215', 'Facebook', '389879808', 'USD', '0.0', '2974676', '212', '3.5', '3.5', '95.0', '4+', 'Social Networking', '37', '1', '29', '1']\n",
      "['389801252', 'Instagram', '113954816', 'USD', '0.0', '2161558', '1289', '4.5', '4.0', '10.23', '12+', 'Photo & Video', '37', '0', '29', '1']\n",
      "\n",
      "Number of rows: 6181\n",
      "Number of columns: 16\n",
      "\n",
      "['App', 'Category', 'Rating', 'Reviews', 'Size', 'Installs', 'Type', 'Price', 'Content Rating', 'Genres', 'Last Updated', 'Current Ver', 'Android Ver']\n",
      "['Photo Editor & Candy Camera & Grid & ScrapBook', 'ART_AND_DESIGN', '4.1', '159', '19M', '10,000+', 'Free', '0', 'Everyone', 'Art & Design', 'January 7, 2018', '1.0.0', '4.0.3 and up']\n",
      "['U Launcher Lite – FREE Live Cool Themes, Hide Apps', 'ART_AND_DESIGN', '4.7', '87510', '8.7M', '5,000,000+', 'Free', '0', 'Everyone', 'Art & Design', 'August 1, 2018', '1.2.4', '4.0.3 and up']\n",
      "\n",
      "Number of rows: 9615\n",
      "Number of columns: 13\n",
      "\n"
     ]
    }
   ],
   "source": [
    "def remove_non_eng(dataset, app_name_col):\n",
    "    \n",
    "    #Used to store all apps likely meant for english audience\n",
    "    eng_dataset = []\n",
    "    \n",
    "    #Grab header for new dataset\n",
    "    eng_dataset.append(dataset[0])\n",
    "    \n",
    "    #loop through all apps in dataset, excluding header, and add those which are english to the new dataset\n",
    "    for app in dataset[1:]:\n",
    "        app_name = app[app_name_col]\n",
    "        if is_eng_app(app_name):\n",
    "            eng_dataset.append(app)\n",
    "            \n",
    "    return eng_dataset\n",
    "\n",
    "apple_dedup_eng = remove_non_eng(apple_dedup, 1)\n",
    "google_dedup_eng = remove_non_eng(google_dedup, 0)\n",
    "\n",
    "print_data(apple_dedup_eng, 0 , 3)\n",
    "print_data(google_dedup_eng, 0 , 3)"
   ]
  },
  {
   "cell_type": "markdown",
   "metadata": {},
   "source": [
    "---\n",
    "<a name=\"subparagraph4\"></a>\n",
    "\n",
    "### 3.4) Detecting and removing paid apps"
   ]
  },
  {
   "cell_type": "code",
   "execution_count": 14,
   "metadata": {},
   "outputs": [
    {
     "name": "stdout",
     "output_type": "stream",
     "text": [
      "['id', 'track_name', 'size_bytes', 'currency', 'price', 'rating_count_tot', 'rating_count_ver', 'user_rating', 'user_rating_ver', 'ver', 'cont_rating', 'prime_genre', 'sup_devices.num', 'ipadSc_urls.num', 'lang.num', 'vpp_lic']\n",
      "['284882215', 'Facebook', '389879808', 'USD', '0.0', '2974676', '212', '3.5', '3.5', '95.0', '4+', 'Social Networking', '37', '1', '29', '1']\n",
      "['389801252', 'Instagram', '113954816', 'USD', '0.0', '2161558', '1289', '4.5', '4.0', '10.23', '12+', 'Photo & Video', '37', '0', '29', '1']\n",
      "\n",
      "Number of rows: 3220\n",
      "Number of columns: 16\n",
      "\n",
      "['App', 'Category', 'Rating', 'Reviews', 'Size', 'Installs', 'Type', 'Price', 'Content Rating', 'Genres', 'Last Updated', 'Current Ver', 'Android Ver']\n",
      "['Photo Editor & Candy Camera & Grid & ScrapBook', 'ART_AND_DESIGN', '4.1', '159', '19M', '10,000+', 'Free', '0', 'Everyone', 'Art & Design', 'January 7, 2018', '1.0.0', '4.0.3 and up']\n",
      "['U Launcher Lite – FREE Live Cool Themes, Hide Apps', 'ART_AND_DESIGN', '4.7', '87510', '8.7M', '5,000,000+', 'Free', '0', 'Everyone', 'Art & Design', 'August 1, 2018', '1.2.4', '4.0.3 and up']\n",
      "\n",
      "Number of rows: 8865\n",
      "Number of columns: 13\n",
      "\n"
     ]
    }
   ],
   "source": [
    "def get_free_apps(dataset, price_col):\n",
    "    \n",
    "    free_apps = []\n",
    "    free_apps.append(dataset[0])\n",
    "    \n",
    "    for app in dataset[1:]:\n",
    "       \n",
    "        price = app[price_col]\n",
    "        \n",
    "        if price == '0' or price == '0.0':\n",
    "            free_apps.append(app)\n",
    "         \n",
    "    return free_apps\n",
    "\n",
    "apple_final = get_free_apps(apple_dedup_eng, 4)\n",
    "google_final = get_free_apps(google_dedup_eng, 7)\n",
    "\n",
    "print_data(apple_final, 0, 3)\n",
    "print_data(google_final, 0 , 3)"
   ]
  },
  {
   "cell_type": "markdown",
   "metadata": {},
   "source": [
    "---\n",
    "##### We will now be using the cleaned datasets \"apple_final\" and \"google_final\" for analysis\n",
    "- For fun, I am assuming I work for a company that builds free apps directed towards an English-speaking audience \n",
    "- As this company's data analyst, I am tasked with determining which application profiles will likely attract the most users as the company's revenue is dependent on number of users on the app\n",
    "- We will begin this analysis in the next section\n",
    "---"
   ]
  },
  {
   "cell_type": "markdown",
   "metadata": {},
   "source": [
    "<a name=\"paragraph3\"></a>\n",
    "\n",
    "## 4. Most Common App Genres per Market\n",
    "- We will first determine which genre of app is the most common"
   ]
  },
  {
   "cell_type": "code",
   "execution_count": 15,
   "metadata": {},
   "outputs": [],
   "source": [
    "#This function will return the % frequency of values found in the dataset according to the 'column' provided\n",
    "def get_frequencies(dataset, column):\n",
    "    \n",
    "    #total number of values on which to calculate percentage is # of rows - the header row\n",
    "    total = len(dataset) - 1\n",
    "    \n",
    "    #empty dictionary to store the frequencies\n",
    "    column_values = {}\n",
    "    \n",
    "    #loop through all entries in dataset\n",
    "    for item in dataset[1:]:\n",
    "        \n",
    "        #create variable for the value we find in this row of the dataset\n",
    "        value = item[column]\n",
    "        \n",
    "        #if we have already seen this value before, add 1 to the dictionary value\n",
    "        if value in column_values:\n",
    "            column_values[value] += 1\n",
    "        \n",
    "        #if we have not seen this value, add a new entry to the dictionary with value of 1\n",
    "        else:\n",
    "            column_values[value] = 1\n",
    "    \n",
    "    #for every key:value pair in the dictionary, calculate the percentage and store that as a new value in the dictionary\n",
    "    for entry in column_values:\n",
    "        value = column_values[entry]\n",
    "        column_values[entry] = (value / total) * 100\n",
    "        \n",
    "    return column_values\n",
    "\n",
    "#This function will simply print the dictionary created in previous function in an easy to read format\n",
    "def print_frequencies(data, num_to_print, percentages=True):\n",
    "\n",
    "    #will be list of tuples from 'data' dictionary\n",
    "    list_data = []\n",
    "    \n",
    "    #popuate list of tuples\n",
    "    for item in data:\n",
    "        data_tuple = (data[item], item)\n",
    "        list_data.append(data_tuple)\n",
    "        \n",
    "    #sort list of tuples based on value (not key) in 'data' dictionary\n",
    "    sorted_data = sorted(list_data, reverse=True)\n",
    "    \n",
    "    if percentages:\n",
    "        for item in sorted_data[:num_to_print]:\n",
    "            percentage = '%f'\n",
    "            print(item[1], ':', str(round(item[0], 2)) + '%')\n",
    "    else:\n",
    "        for item in sorted_data[:num_to_print]:\n",
    "            print(item[1], ':', str(round(item[0], 2)))"
   ]
  },
  {
   "cell_type": "code",
   "execution_count": 16,
   "metadata": {},
   "outputs": [
    {
     "name": "stdout",
     "output_type": "stream",
     "text": [
      "Most common app 'prime_genre' in the Apple iOS App Store:\n",
      "-------------\n",
      "Games : 58.14%\n",
      "Entertainment : 7.89%\n",
      "Photo & Video : 4.97%\n",
      "Education : 3.66%\n",
      "Social Networking : 3.29%\n",
      "Shopping : 2.61%\n",
      "Utilities : 2.52%\n",
      "Sports : 2.14%\n",
      "Music : 2.05%\n",
      "Health & Fitness : 2.02%\n"
     ]
    }
   ],
   "source": [
    "print(\"Most common app 'prime_genre' in the Apple iOS App Store:\")\n",
    "print(\"-------------\")\n",
    "apple_freqs = get_frequencies(apple_final, 11)\n",
    "print_frequencies(apple_freqs, 10)"
   ]
  },
  {
   "cell_type": "markdown",
   "metadata": {},
   "source": [
    "- Most common genre in iOS App Store appears to be a 'game' by far"
   ]
  },
  {
   "cell_type": "code",
   "execution_count": 17,
   "metadata": {},
   "outputs": [
    {
     "name": "stdout",
     "output_type": "stream",
     "text": [
      "Most common app 'Category' in the Google Play Store:\n",
      "-------------\n",
      "FAMILY : 18.91%\n",
      "GAME : 9.72%\n",
      "TOOLS : 8.46%\n",
      "BUSINESS : 4.59%\n",
      "LIFESTYLE : 3.91%\n",
      "PRODUCTIVITY : 3.89%\n",
      "FINANCE : 3.7%\n",
      "MEDICAL : 3.53%\n",
      "SPORTS : 3.4%\n",
      "PERSONALIZATION : 3.32%\n",
      "\n",
      "Most common app 'Genre' in the Google Play Store:\n",
      "-------------\n",
      "Tools : 8.45%\n",
      "Entertainment : 6.07%\n",
      "Education : 5.35%\n",
      "Business : 4.59%\n",
      "Productivity : 3.89%\n",
      "Lifestyle : 3.89%\n",
      "Finance : 3.7%\n",
      "Medical : 3.53%\n",
      "Sports : 3.46%\n",
      "Personalization : 3.32%\n"
     ]
    }
   ],
   "source": [
    "print(\"Most common app 'Category' in the Google Play Store:\")\n",
    "print(\"-------------\")\n",
    "google_cat_freqs = get_frequencies(google_final, 1)\n",
    "print_frequencies(google_cat_freqs, 10)\n",
    "\n",
    "print()\n",
    "\n",
    "print(\"Most common app 'Genre' in the Google Play Store:\")\n",
    "print(\"-------------\")\n",
    "google_genre_freqs = get_frequencies(google_final, 9)\n",
    "print_frequencies(google_genre_freqs, 10)"
   ]
  },
  {
   "cell_type": "markdown",
   "metadata": {},
   "source": [
    "- It is hard to tell the difference between these two columns in the 'Google' dataset as they both seem to describe the genre of app\n",
    "- We can say for sure that the Google Play Store has a wider variety of apps which are free and meant for English audiences\n",
    "- 'Games' only make up ~9-10% of this population whereas they make up 58% of the same population in the iOS App Store"
   ]
  },
  {
   "cell_type": "markdown",
   "metadata": {},
   "source": [
    "---\n",
    "- This data is showing us the most common apps which have been published to the respective app stores; however, we are interested in the apps which have the most users\n",
    "- We'll use the functions above to determine the genres in each market which have the most user activity\n",
    "---"
   ]
  },
  {
   "cell_type": "markdown",
   "metadata": {},
   "source": [
    "<a name=\"paragraph4\"></a>\n",
    "\n",
    "## 4. Most Popular App Genres per Market\n",
    "- Now we will determine which app genres have the most user activity"
   ]
  },
  {
   "cell_type": "markdown",
   "metadata": {},
   "source": [
    "- For the 'Apple' dataset, \"most user activity\" will be measured by the total number of ratings given to each genre ('rating_count_tot')\n",
    "- For the 'Google' dataset, \"most user activity\" will be measured by the total number of installs of apps in each genre ('Installs')"
   ]
  },
  {
   "cell_type": "code",
   "execution_count": 18,
   "metadata": {},
   "outputs": [],
   "source": [
    "#First, we will get all unique genres in each dataset\n",
    "#Remembering that the 'google' dataset had 2 columns that both appear to describe the app genre\n",
    "apple_genres = list(get_frequencies(apple_final, 11).keys())\n",
    "google_categories = list(get_frequencies(google_final, 1).keys())\n",
    "google_genres = list(get_frequencies(google_final, 9).keys())"
   ]
  },
  {
   "cell_type": "code",
   "execution_count": 19,
   "metadata": {},
   "outputs": [],
   "source": [
    "# this function will return a dictionary in the form {genre: average number of (activity_column) per app in this genre}\n",
    "#\n",
    "def get_user_activity(dataset, genres, genre_column, activity_column):\n",
    "    \n",
    "    #initialize this dictionary\n",
    "    avg_genre_ratings = {}\n",
    "    \n",
    "    #loop through list of unique genres in dataset\n",
    "    for genre in genres:\n",
    "        \n",
    "        #initialize variables for counting the total number of ratings found per genre\n",
    "        sum_ratings = 0\n",
    "        #and for the total number of apps associated with each genre\n",
    "        sum_apps = 0\n",
    "        \n",
    "        #for every genre, loop through the original dataset\n",
    "        for app in dataset[1:]:\n",
    "            \n",
    "            #grab the genre of given app\n",
    "            app_genre = app[genre_column]\n",
    "            \n",
    "            #if it matches the genre of the outer loop\n",
    "            if app_genre == genre:\n",
    "                \n",
    "                #convert value in activity column to a computational float\n",
    "                activity = app[activity_column]\n",
    "                activity = activity.replace(',', '')\n",
    "                activity = activity.replace('+', '')\n",
    "                \n",
    "                #then add the # of its total ratings to our sum variable\n",
    "                sum_ratings += float(activity)\n",
    "                \n",
    "                #add 1 to sum_apps to track how many apps per genre\n",
    "                sum_apps += 1\n",
    "                \n",
    "        #calculate average number of ratings per genre and store in dictionary\n",
    "        avg_num_ratings = sum_ratings / sum_apps\n",
    "        avg_genre_ratings[genre] = avg_num_ratings\n",
    "        \n",
    "    return avg_genre_ratings"
   ]
  },
  {
   "cell_type": "markdown",
   "metadata": {},
   "source": [
    "---\n",
    "Let's run this for Apple"
   ]
  },
  {
   "cell_type": "code",
   "execution_count": 20,
   "metadata": {},
   "outputs": [
    {
     "name": "stdout",
     "output_type": "stream",
     "text": [
      "Navigation : 86090.33\n",
      "Reference : 74942.11\n",
      "Social Networking : 71548.35\n",
      "Music : 57326.53\n",
      "Weather : 52279.89\n"
     ]
    }
   ],
   "source": [
    "apple_activity = get_user_activity(apple_final, apple_genres, genre_column=11, activity_column=5)\n",
    "print_frequencies(apple_activity, 5, percentages=False)"
   ]
  },
  {
   "cell_type": "markdown",
   "metadata": {},
   "source": [
    "- The top 5 genres with most average reviews per app are above. This may be skewed by 1-3 apps in each genre which receive more reviews than most\n",
    "- Such as 'Google Maps' and 'Waze' in Navigation and the 'Bible' and 'Dictionary.com' apps in Reference\n",
    "\n",
    "However, we have seen that this iOS market is flooded with games. It would be wise for our company to invest time in developing an app which has an involved user base, such as those above.\n",
    "\n",
    "---\n",
    "\n",
    "Let's take a look at the Google Play Store before making our recommendation:"
   ]
  },
  {
   "cell_type": "code",
   "execution_count": 21,
   "metadata": {},
   "outputs": [
    {
     "name": "stdout",
     "output_type": "stream",
     "text": [
      "COMMUNICATION : 38456119.17\n",
      "VIDEO_PLAYERS : 24727872.45\n",
      "SOCIAL : 23253652.13\n",
      "PHOTOGRAPHY : 17840110.4\n",
      "PRODUCTIVITY : 16787331.34\n",
      "\n",
      "Communication : 38456119.17\n",
      "Adventure;Action & Adventure : 35333333.33\n",
      "Video Players & Editors : 24947335.8\n",
      "Social : 23253652.13\n",
      "Arcade : 22888365.49\n"
     ]
    }
   ],
   "source": [
    "google_cat_activity = get_user_activity(google_final, google_categories, genre_column=1, activity_column=5)\n",
    "print_frequencies(google_cat_activity, 5, percentages=False)\n",
    "\n",
    "print()\n",
    "\n",
    "google_genre_activity = get_user_activity(google_final, google_genres, genre_column=9, activity_column=5)\n",
    "print_frequencies(google_genre_activity, 5, percentages=False)"
   ]
  },
  {
   "cell_type": "markdown",
   "metadata": {},
   "source": [
    "Looking at the results from all 3 (Apple, Google - Category, and Google - Genre), we see just 1 overlap (social media). We can assume this genre is saturated by apps like Facebook and Instagram. Let's look at more data from all 3:"
   ]
  },
  {
   "cell_type": "code",
   "execution_count": 22,
   "metadata": {},
   "outputs": [
    {
     "name": "stdout",
     "output_type": "stream",
     "text": [
      "Apple iOS Store Top 10 Genres with Highest Average Number of Reviews per app\n",
      "--------\n",
      "Navigation : 86090.33\n",
      "Reference : 74942.11\n",
      "Social Networking : 71548.35\n",
      "Music : 57326.53\n",
      "Weather : 52279.89\n",
      "Book : 39758.5\n",
      "Food & Drink : 33333.92\n",
      "Finance : 31467.94\n",
      "Photo & Video : 28441.54\n",
      "Travel : 28243.8\n",
      "\n",
      "Google Play Store Top 10 Categories with Highest Average Number of Reviews per app\n",
      "--------\n",
      "COMMUNICATION : 38456119.17\n",
      "VIDEO_PLAYERS : 24727872.45\n",
      "SOCIAL : 23253652.13\n",
      "PHOTOGRAPHY : 17840110.4\n",
      "PRODUCTIVITY : 16787331.34\n",
      "GAME : 15588015.6\n",
      "TRAVEL_AND_LOCAL : 13984077.71\n",
      "ENTERTAINMENT : 11640705.88\n",
      "TOOLS : 10801391.3\n",
      "NEWS_AND_MAGAZINES : 9549178.47\n",
      "\n",
      "Google Play Store Top 10 Genres with Highest Average Number of Reviews per app\n",
      "--------\n",
      "Communication : 38456119.17\n",
      "Adventure;Action & Adventure : 35333333.33\n",
      "Video Players & Editors : 24947335.8\n",
      "Social : 23253652.13\n",
      "Arcade : 22888365.49\n",
      "Casual : 19569221.6\n",
      "Puzzle;Action & Adventure : 18366666.67\n",
      "Photography : 17840110.4\n",
      "Educational;Action & Adventure : 17016666.67\n",
      "Productivity : 16787331.34\n"
     ]
    }
   ],
   "source": [
    "print(\"Apple iOS Store Top 10 Genres with Highest Average Number of Reviews per app\")\n",
    "print(\"--------\")\n",
    "print_frequencies(apple_activity, 10, percentages=False)\n",
    "print()\n",
    "print(\"Google Play Store Top 10 Categories with Highest Average Number of Reviews per app\")\n",
    "print(\"--------\")\n",
    "print_frequencies(google_cat_activity, 10, percentages=False)\n",
    "print()\n",
    "print(\"Google Play Store Top 10 Genres with Highest Average Number of Reviews per app\")\n",
    "print(\"--------\")\n",
    "print_frequencies(google_genre_activity, 10, percentages=False)"
   ]
  },
  {
   "cell_type": "markdown",
   "metadata": {},
   "source": [
    "---\n",
    "\n",
    "Reprinting the most common apps per genre for reference:"
   ]
  },
  {
   "cell_type": "code",
   "execution_count": 23,
   "metadata": {},
   "outputs": [
    {
     "name": "stdout",
     "output_type": "stream",
     "text": [
      "Most common app 'prime_genre' in the Apple iOS App Store:\n",
      "-------------\n",
      "Games : 58.14%\n",
      "Entertainment : 7.89%\n",
      "Photo & Video : 4.97%\n",
      "Education : 3.66%\n",
      "Social Networking : 3.29%\n",
      "Shopping : 2.61%\n",
      "Utilities : 2.52%\n",
      "Sports : 2.14%\n",
      "Music : 2.05%\n",
      "Health & Fitness : 2.02%\n",
      "\n",
      "Most common app 'Category' in the Google Play Store:\n",
      "-------------\n",
      "FAMILY : 18.91%\n",
      "GAME : 9.72%\n",
      "TOOLS : 8.46%\n",
      "BUSINESS : 4.59%\n",
      "LIFESTYLE : 3.91%\n",
      "PRODUCTIVITY : 3.89%\n",
      "FINANCE : 3.7%\n",
      "MEDICAL : 3.53%\n",
      "SPORTS : 3.4%\n",
      "PERSONALIZATION : 3.32%\n",
      "\n",
      "Most common app 'Genre' in the Google Play Store:\n",
      "-------------\n",
      "Tools : 8.45%\n",
      "Entertainment : 6.07%\n",
      "Education : 5.35%\n",
      "Business : 4.59%\n",
      "Productivity : 3.89%\n",
      "Lifestyle : 3.89%\n",
      "Finance : 3.7%\n",
      "Medical : 3.53%\n",
      "Sports : 3.46%\n",
      "Personalization : 3.32%\n"
     ]
    }
   ],
   "source": [
    "print(\"Most common app 'prime_genre' in the Apple iOS App Store:\")\n",
    "print(\"-------------\")\n",
    "apple_freqs = get_frequencies(apple_final, 11)\n",
    "print_frequencies(apple_freqs, 10)\n",
    "\n",
    "print()\n",
    "\n",
    "print(\"Most common app 'Category' in the Google Play Store:\")\n",
    "print(\"-------------\")\n",
    "google_cat_freqs = get_frequencies(google_final, 1)\n",
    "print_frequencies(google_cat_freqs, 10)\n",
    "\n",
    "print()\n",
    "\n",
    "print(\"Most common app 'Genre' in the Google Play Store:\")\n",
    "print(\"-------------\")\n",
    "google_genre_freqs = get_frequencies(google_final, 9)\n",
    "print_frequencies(google_genre_freqs, 10)"
   ]
  },
  {
   "cell_type": "markdown",
   "metadata": {},
   "source": [
    "---\n",
    "\n",
    "<a name=\"paragraph5\"></a>\n",
    "\n",
    "## Findings and Recommendation\n",
    "\n",
    "Looking at the results above, we can see that some of the most common genres with high average number of reviews or installs per app are one of the following:\n",
    "\n",
    "- Business\n",
    "- Travel\n",
    "- Shopping\n",
    "- Food & Drink\n",
    "\n",
    "**It would appear there is a demand for apps which aggregate data (such as listings of local stores, local restaurants, or local tourist destinations) and display this data in a central place.** Typically this data is freely available on the web, but scattered across multiple websites and business pages. \n",
    "\n",
    "This application would take some web-scraping but there is obviously a potential for user interaction given the high number of reviews. This means that if we were to publish an app in this space, we would likely get feedback early and often. This would allow us to respond to the community and take over market share in a space where users' are interested in a new application."
   ]
  }
 ],
 "metadata": {
  "kernelspec": {
   "display_name": "Python 3",
   "language": "python",
   "name": "python3"
  },
  "language_info": {
   "codemirror_mode": {
    "name": "ipython",
    "version": 3
   },
   "file_extension": ".py",
   "mimetype": "text/x-python",
   "name": "python",
   "nbconvert_exporter": "python",
   "pygments_lexer": "ipython3",
   "version": "3.8.3"
  }
 },
 "nbformat": 4,
 "nbformat_minor": 4
}
